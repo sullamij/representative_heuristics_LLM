{
 "cells": [
  {
   "cell_type": "code",
   "execution_count": null,
   "metadata": {},
   "outputs": [],
   "source": [
    "import pandas as pd \n",
    "import ast\n",
    "from statistics import mean \n",
    "import numpy as np\n",
    "from utils import * \n",
    "import numpy as np \n",
    "from sympy import symbols, solve, Eq"
   ]
  },
  {
   "attachments": {},
   "cell_type": "markdown",
   "metadata": {},
   "source": [
    "### **ANES**"
   ]
  },
  {
   "cell_type": "code",
   "execution_count": null,
   "metadata": {},
   "outputs": [],
   "source": [
    "# get empirical results\n",
    "emp_anes=get_emp_anes()\n",
    "keys=['Lib_Con','Gov_HealthInsurance','Job_Income','Urban_unrest','Aid_Black','Right_Accused','Women_equal','Gov_services','Defense_Spending','Abortion']\n",
    "emp_df = make_mean_df(emp_anes,keys)\n",
    "\n",
    "# get response\n",
    "responses = get_anes_responses() \n",
    "\n",
    "# get Human Pred \n",
    "emp_DR = get_empirical_DR(emp_anes,keys)\n",
    "emp_DR['Model']='Human_Pred'\n",
    "\n",
    "anes_df = pd.concat([responses,emp_df,emp_DR],ignore_index=True)\n"
   ]
  },
  {
   "attachments": {},
   "cell_type": "markdown",
   "metadata": {},
   "source": [
    "Generate Figure ANES in Paper"
   ]
  },
  {
   "cell_type": "code",
   "execution_count": null,
   "metadata": {},
   "outputs": [],
   "source": [
    "yaxis_ticks=['Abortion', 'Aid_Black', 'Defense_Spending', 'Gov_HealthInsurance',\n",
    "                 'Gov_services', 'Job_Income', 'Lib_Con', 'Right_Accused', 'School_bus',\n",
    "                 'Urban_unrest', 'Women_equal']\n",
    "\n",
    "textt={'Lib_Con':\"<b>Liberal-Conservative</b>\",\n",
    "       'Gov_HealthInsurance':\"<b>Government Health Insurance</b>\",\n",
    "       'Job_Income':\"<b>Government Job Income</b>\",\n",
    "       'Aid_Black':\"<b>Government Aid Blacks</b>\",\n",
    "       \"Right_Accused\":\"<b>Legal Rights</b>\",\n",
    "       \"Urban_unrest\":\"<b>Urban Unrest</b>\",\n",
    "       \"School_bus\":\"<b>School Racial Integration</b>\",\n",
    "       \"Women_equal\":\"<b>Women's Rights</b>\",\n",
    "       \"Gov_services\":\"<b>Government Services</b>\",\n",
    "       \"Defense_Spending\":\"<b>Defense Spending</b>\",\n",
    "       \"Abortion\":\"<b>Abortion</b>\"\n",
    "       }"
   ]
  },
  {
   "cell_type": "code",
   "execution_count": null,
   "metadata": {},
   "outputs": [],
   "source": [
    "import plotly.express as px \n",
    "import plotly.graph_objects as go \n",
    "\n",
    "\n",
    "fig = px.scatter(anes_df,x='Scale',y='Topic',color='Model',symbol='Party',template='plotly_white')\n",
    "fig.update_traces(marker=dict(size=10))\n",
    "fig.update_traces(marker=dict(line=dict(width=1.5)),selector=({'name':'Empirical, Democrats'}))\n",
    "fig.update_traces(marker=dict(line=dict(width=1.5)),selector=({'name':'Empirical, Republicans'}))\n",
    "\n",
    "\n",
    "\n",
    "for i, trace in enumerate(fig.data):\n",
    "    #break\n",
    "    name=trace.name.split(',')\n",
    "    if name[1]==' Republicans':\n",
    "        trace['name']=''\n",
    "        trace['showlegend']=False \n",
    "    else:\n",
    "        trace['name']=name[0]\n",
    "        trace['legendgroup']=1\n",
    "        trace['legendgrouptitle']={'text':'Model'}\n",
    "\n",
    "fig.add_trace(go.Scatter(y=[None],mode='markers',\n",
    "                         marker=dict(symbol='circle',color='white',line=dict(width=1)),\n",
    "                         name='Democrats',\n",
    "                         legendgroup=2,\n",
    "                         legendgrouptitle={'text':'Party'}))\n",
    "fig.add_trace(go.Scatter(y=[None],mode='markers',\n",
    "                         marker=dict(symbol='diamond',color='white',line=dict(width=1)),\n",
    "                                    name='Republicans',\n",
    "                                    legendgroup=2,\n",
    "                        legendgrouptitle={'text':'Party'}))\n",
    "\n",
    "fig.update_yaxes(tickmode='array',\n",
    "    tickvals=yaxis_ticks,\n",
    "    ticktext =[textt[t]for t in yaxis_ticks],\n",
    "    automargin=True,\n",
    "    autorange=True,\n",
    "                )\n",
    "fig.update_xaxes(\n",
    "    tickvals=[1,2,3,4,5,6,7],\n",
    "    range=[0.75,7.1]\n",
    ")\n",
    "fig.update_layout(\n",
    "    font_family='Times New Roman',\n",
    "    yaxis_title=\"\",\n",
    "    xaxis_title=\"<b>Scale</b>\",\n",
    "    #legend=dict(\n",
    "    #    orientation='h',\n",
    "    #    yanchor='bottom',\n",
    "    #    y=1.02,\n",
    "    #    xanchor='center',\n",
    "    #    x=0.5\n",
    "    #)\n",
    "    legend={'title':''},\n",
    "    xaxis = dict(\n",
    "        showline=True,\n",
    "        linecolor='rgb(102,102,102)',\n",
    "        titlefont=dict(size=16)\n",
    "    ),\n",
    "    width=1000,\n",
    "    height=400,\n",
    ")\n",
    "\n",
    "fig.data = (fig.data[0],fig.data[1],fig.data[2],fig.data[3],fig.data[4],fig.data[5],fig.data[6],fig.data[7],\n",
    "            fig.data[10],fig.data[11],fig.data[8],fig.data[9],fig.data[12],fig.data[13])\n",
    "\n",
    "\n",
    "for i, trace in enumerate(fig.data):\n",
    "    if i==10 or i==11: \n",
    "        continue # pass Empirical \n",
    "    #marker=dict(line=dict(width=1.5))\n",
    "    trace['marker']['line']['width']=0.5\n",
    "    trace['marker']['opacity']=0.8\n",
    "\n",
    "fig.update_yaxes(gridcolor='black')\n",
    "\n",
    "\n",
    "    \n",
    "fig"
   ]
  },
  {
   "attachments": {},
   "cell_type": "markdown",
   "metadata": {},
   "source": [
    "### **MFQ** "
   ]
  },
  {
   "cell_type": "code",
   "execution_count": null,
   "metadata": {},
   "outputs": [],
   "source": [
    "mfq_empirical = preprocess_mfq_empirical()\n",
    "mfq_responses = get_mfq_responses() \n",
    "df_concat = pd.concat([mfq_responses,mfq_empirical],ignore_index=True)"
   ]
  },
  {
   "attachments": {},
   "cell_type": "markdown",
   "metadata": {},
   "source": [
    "Generate Fig MFQ "
   ]
  },
  {
   "cell_type": "code",
   "execution_count": null,
   "metadata": {},
   "outputs": [],
   "source": [
    "import plotly.express as px \n",
    "\n",
    "fig = px.scatter(df_concat,x='Scale',y='Attribute',color='Model',symbol='Party',template='plotly_white')\n",
    "\n",
    "fig.update_traces(marker=dict(size=10))\n",
    "fig.update_traces(marker=dict(line=dict(width=1.5)),selector=({'name':'Empirical, Democrats'}))\n",
    "fig.update_traces(marker=dict(line=dict(width=1.5)),selector=({'name':'Empirical, Republicans'}))\n",
    "\n",
    "\n",
    "for i, trace in enumerate(fig.data):\n",
    "    #break\n",
    "    name=trace.name.split(',')\n",
    "    if name[1]==' Republicans':\n",
    "        trace['name']=''\n",
    "        trace['showlegend']=False \n",
    "    else:\n",
    "        trace['name']=name[0]\n",
    "        trace['legendgroup']=1\n",
    "        trace['legendgrouptitle']={'text':'Model'}\n",
    "\n",
    "fig.add_trace(go.Scatter(y=[None],mode='markers',\n",
    "                         marker=dict(symbol='circle',color='white',line=dict(width=1)),\n",
    "                         name='Democrats',\n",
    "                         legendgroup=2,\n",
    "                         legendgrouptitle={'text':'Party'}))\n",
    "fig.add_trace(go.Scatter(y=[None],mode='markers',\n",
    "                         marker=dict(symbol='diamond',color='white',line=dict(width=1)),\n",
    "                                    name='Republicans',\n",
    "                                    legendgroup=2,\n",
    "                        legendgrouptitle={'text':'Party'}))\n",
    "\n",
    "\n",
    "fig.update_yaxes(\n",
    "    tickfont=dict(size=16)\n",
    ")\n",
    "fig.update_xaxes(\n",
    "    tickvals=[1,2,3,4,5,6],\n",
    "    range=[1,6],\n",
    "    #tickfont=dict(size=16)\n",
    "    #titlefont=dict(size=16)\n",
    ")\n",
    "\n",
    "for i, trace in enumerate(fig.data):\n",
    "    if i==8 or i==9:\n",
    "        continue # continue empirical \n",
    "        #marker=dict(line=dict(width=1.5))\n",
    "    trace['marker']['line']['width']=0.5\n",
    "    trace['marker']['opacity']=0.8\n",
    "\n",
    "\n",
    "fig.update_layout(\n",
    "    font=dict(\n",
    "        family='Times New Roman',\n",
    "        size=12\n",
    "    ),\n",
    "    \n",
    "    yaxis_title=\"\",\n",
    "    xaxis_title=\"<b>Scale</b>\",\n",
    "    legend=dict(\n",
    "    #    orientation='h',\n",
    "    #    yanchor='bottom',\n",
    "    #    y=1.02,\n",
    "    #    xanchor='center',\n",
    "    #    x=0.5\n",
    "        yanchor='top',\n",
    "        y=0.99,\n",
    "        xanchor='right',\n",
    "        x=1.1,\n",
    "        title='',\n",
    "    #)\n",
    "    ),\n",
    "    #legend={'title':''},\n",
    "    xaxis = dict(\n",
    "        showline=True,\n",
    "        linecolor='rgb(102,102,102)',\n",
    "        titlefont=dict(size=16)\n",
    "    ),\n",
    "    showlegend = True,\n",
    "\n",
    "    width=700,\n",
    "    height=500,\n",
    ")\n",
    "\n",
    "    \n",
    "fig"
   ]
  },
  {
   "attachments": {},
   "cell_type": "markdown",
   "metadata": {},
   "source": [
    "### **Belived Diff vs Empirical Diff**"
   ]
  },
  {
   "cell_type": "code",
   "execution_count": null,
   "metadata": {},
   "outputs": [],
   "source": [
    "filter_DF = []\n",
    "for topic in anes_df['Topic'].unique():\n",
    "    for model in anes_df['Model'].unique(): \n",
    "        if model =='Empirical':\n",
    "            continue\n",
    "        if model =='Gemini' and topic=='Aid_Black':\n",
    "            continue\n",
    "        diff= anes_df.query(\"Topic==@topic and Model==@model and Party=='Republicans'\")['Scale'].values[0] - anes_df.query(\"Topic==@topic and Model==@model and Party=='Democrats'\")['Scale'].values[0]\n",
    "        emp_diff= anes_df.query(\"Topic==@topic and Model=='Empirical' and Party=='Republicans'\")['Scale'].values[0] - anes_df.query(\"Topic==@topic and Model=='Empirical' and Party=='Democrats'\")['Scale'].values[0]\n",
    "        filter_DF.append({'Topic':topic, 'Model':model,'Believed_Diff':diff, 'Emp_Diff':emp_diff})\n",
    "Diff_DF=pd.DataFrame.from_dict(filter_DF)\n",
    "Diff_DF['Type'] = 'ANES'"
   ]
  },
  {
   "cell_type": "code",
   "execution_count": null,
   "metadata": {},
   "outputs": [],
   "source": [
    "filter_DF = []\n",
    "for topic in df_concat['Attribute'].unique():\n",
    "    for model in df_concat['Model'].unique(): \n",
    "        if model =='Empirical':\n",
    "            continue\n",
    "        diff= df_concat.query(\"Attribute==@topic and Model==@model and Party=='Republicans'\")['Scale'].values[0] - df_concat.query(\"Attribute==@topic and Model==@model and Party=='Democrats'\")['Scale'].values[0]\n",
    "        emp_diff= df_concat.query(\"Attribute==@topic and Model=='Empirical' and Party=='Republicans'\")['Scale'].values[0] - df_concat.query(\"Attribute==@topic and Model=='Empirical' and Party=='Democrats'\")['Scale'].values[0]\n",
    "        filter_DF.append({'Topic':topic, 'Model':model,'Believed_Diff':diff, 'Emp_Diff':emp_diff})\n",
    "\n",
    "Diff_DF_MFQ=pd.DataFrame.from_dict(filter_DF)\n",
    "Diff_DF_MFQ['Type']='MFQ'\n",
    "Diff_DF=pd.concat([Diff_DF,Diff_DF_MFQ],ignore_index=True)"
   ]
  },
  {
   "cell_type": "code",
   "execution_count": null,
   "metadata": {},
   "outputs": [],
   "source": [
    "import plotly.express as px \n",
    "import plotly.graph_objects as go \n",
    "import numpy as np \n",
    "\n",
    "symbols = ['circle','diamond','square','x','cross','star','pentagon','bowtie',\n",
    "           'triangle-down','star-square','diamond-wide']\n",
    "fig = px.scatter(Diff_DF,x='Emp_Diff',y='Believed_Diff',symbol='Type',color='Model',template='plotly_white',symbol_sequence=symbols)\n",
    "#fig = px.scatter(Diff_DF,x='Emp_Diff',y='Believed_Diff',color='Model',template='plotly_white')\n",
    "\n",
    "fig.update_traces(marker=dict(size=10))\n",
    "#fig.update_traces(marker=dict(line=dict(width=1.5)),selector=({'name':'Empirical, Democrats'}))\n",
    "#fig.update_traces(marker=dict(line=dict(width=1.5)),selector=({'name':'Empirical, Republicans'}))\n",
    "\n",
    "x=np.arange(0,2,0.1)\n",
    "y=np.arange(0,2,0.1)\n",
    "for xx, yy in zip(x,y):\n",
    "    fig.add_scatter(\n",
    "        x=[0,xx],\n",
    "        y=[0,yy],\n",
    "        mode='lines',\n",
    "        line_color='gray',\n",
    "        showlegend=False)\n",
    "\n",
    "\n",
    "    \n",
    "\n",
    "for i, trace in enumerate(fig.data):\n",
    "    #break\n",
    "    if trace.name==None:\n",
    "        continue\n",
    "    name=trace.name.split(',')\n",
    "    if name[1]==' MFQ':\n",
    "        trace['name']=''\n",
    "        trace['showlegend']=False \n",
    "    else:\n",
    "        trace['name']=name[0]\n",
    "        trace['legendgroup']=1\n",
    "        trace['legendgrouptitle']={'text':'Model'}\n",
    "\n",
    "fig.add_trace(go.Scatter(y=[None],mode='markers',\n",
    "                         marker=dict(symbol='circle',color='white',line=dict(width=1)),\n",
    "                         name='ANES',\n",
    "                         legendgroup=2,\n",
    "                         legendgrouptitle={'text':'Data'}))\n",
    "fig.add_trace(go.Scatter(y=[None],mode='markers',\n",
    "                         marker=dict(symbol='diamond',color='white',line=dict(width=1)),\n",
    "                                    name='MFQ',\n",
    "                                    legendgroup=2,\n",
    "                        legendgrouptitle={'text':'Data'}))\n",
    "\n",
    "\n",
    "for i, trace in enumerate(fig.data):\n",
    "    if trace['mode']=='markers':\n",
    "        #marker=dict(line=dict(width=1.5))\n",
    "        trace['marker']['line']['width']=0.5\n",
    "        trace['marker']['opacity']=0.8\n",
    "\n",
    "## change color \n",
    "trace=fig.data[8]\n",
    "trace['marker']['color']='#19d3f3'\n",
    "\n",
    "fig.update_layout(\n",
    "    font_family='Times New Roman',\n",
    "    yaxis_title=\"<b>Believed Mean Difference</b>\",\n",
    "    xaxis_title=\"<b>Empirical Mean Difference</b>\",\n",
    "    legend={'title':''},\n",
    "    xaxis = dict(\n",
    "        showline=True,\n",
    "    #    linecolor='rgb(102,102,102)',\n",
    "        titlefont=dict(size=16)\n",
    "    ),\n",
    "\n",
    "    yaxis = dict(\n",
    "        titlefont=dict(size=16) \n",
    "    ),\n",
    "    width=600,\n",
    "    height=600,\n",
    "    )\n"
   ]
  },
  {
   "attachments": {},
   "cell_type": "markdown",
   "metadata": {},
   "source": [
    "### **Test Kernel of Truth**"
   ]
  },
  {
   "cell_type": "code",
   "execution_count": null,
   "metadata": {},
   "outputs": [],
   "source": [
    "mfq_result =solve_mfq_kernel_of_truth(df_concat)\n",
    "anes_result = solve_anes_kernel_of_truth(anes_df)"
   ]
  },
  {
   "attachments": {},
   "cell_type": "markdown",
   "metadata": {},
   "source": [
    "### **Test Representative Heuristics**"
   ]
  },
  {
   "attachments": {},
   "cell_type": "markdown",
   "metadata": {},
   "source": [
    "ANES"
   ]
  },
  {
   "cell_type": "code",
   "execution_count": null,
   "metadata": {},
   "outputs": [],
   "source": [
    "emp_anes=get_emp_anes()\n",
    "keys=['Lib_Con','Gov_HealthInsurance','Job_Income','Urban_unrest','School_bus','Aid_Black','Right_Accused','Women_equal','Gov_services','Defense_Spending','Abortion']\n",
    "emp_df=make_mean_df(emp_anes,keys)\n",
    "\n",
    "anes_rep=count_representative(emp_anes,keys)\n",
    "cond_probs = get_p_a_X(emp_anes,keys)\n",
    "rep_frac = get_representativeness_frac(emp_anes,keys)\n",
    "rep_frac_head2=rep_frac.sort_values(['Topic','Rep_frac'],ascending=False).groupby('Topic').head(2)\n",
    "\n",
    "responses = get_anes_responses()"
   ]
  },
  {
   "cell_type": "code",
   "execution_count": null,
   "metadata": {},
   "outputs": [],
   "source": [
    "rows= [] \n",
    "for key in keys: \n",
    "    attrbs=rep_frac_head2.query(\"Topic==@key\")['Attribute'].unique()\n",
    "    numerator=0\n",
    "    denom = 0 \n",
    "    for a in attrbs:\n",
    "        numerator+=cond_probs.query(\"Topic==@key and PARTY=='Republicans' and Attribute==@a\")['Normalized'].values[0]\n",
    "        denom+=cond_probs.query(\"Topic==@key and PARTY=='Democrats' and Attribute==@a\")['Normalized'].values[0]\n",
    "    rows.append({'Topic':key,'P_An':numerator/denom})\n",
    "P_AN=pd.DataFrame.from_dict(rows)"
   ]
  },
  {
   "cell_type": "code",
   "execution_count": null,
   "metadata": {},
   "outputs": [],
   "source": [
    "anes_representative = solve_anes_representative(responses,emp_df,P_AN)"
   ]
  },
  {
   "attachments": {},
   "cell_type": "markdown",
   "metadata": {},
   "source": [
    "MFQ"
   ]
  },
  {
   "cell_type": "code",
   "execution_count": null,
   "metadata": {},
   "outputs": [],
   "source": [
    "concat_df = process_mfq_for_representative() \n",
    "cond_probs_mfq = get_MFQ_p_a_X(concat_df)\n",
    "MFQ_rep = get_MFQ_representativeness_frac(concat_df)\n",
    "rep_mfq_head2=MFQ_rep.sort_values(['Topic','Rep_frac'],ascending=False).groupby('Topic').head(2)"
   ]
  },
  {
   "cell_type": "code",
   "execution_count": null,
   "metadata": {},
   "outputs": [],
   "source": [
    "rows = [] \n",
    "for key in rep_mfq_head2['Topic'].unique():\n",
    "    attrbs = rep_mfq_head2.query(\"Topic==@key\")['Attribute'].unique()\n",
    "    numerator=0\n",
    "    denom=0 \n",
    "    for a in attrbs: \n",
    "        numerator+=cond_probs_mfq.query(\"Topic==@key and Party=='Republicans' and Attribute==@a\")['Normalized'].values[0]\n",
    "        denom+=cond_probs_mfq.query(\"Topic==@key and Party=='Democrats' and Attribute==@a\")['Normalized'].values[0]\n",
    "    rows.append({'Topic':key,'P_An':numerator/denom})\n",
    "P_AN=pd.DataFrame.from_dict(rows)"
   ]
  },
  {
   "cell_type": "code",
   "execution_count": null,
   "metadata": {},
   "outputs": [],
   "source": [
    "responses = get_mfq_responses()\n",
    "cols =['Harm','Fairness','Loyalty','Authority','Purity']\n",
    "for col in cols:\n",
    "    for ind in [1,2,3,4,5,6]:\n",
    "        colname = f\"{col}_{ind}\"\n",
    "        concat_df[colname]=concat_df[colname].astype('float')\n",
    "mfq_empirical_1=concat_df.groupby(['Party']).mean().reset_index()"
   ]
  },
  {
   "cell_type": "code",
   "execution_count": null,
   "metadata": {},
   "outputs": [],
   "source": [
    "mfq_result_df=solve_mfq_representative(responses,mfq_empirical_1,P_AN)"
   ]
  },
  {
   "cell_type": "code",
   "execution_count": null,
   "metadata": {},
   "outputs": [],
   "source": [
    "cols =['Harm','Fairness','Loyalty','Authority','Purity']\n",
    "Row=[]\n",
    "for col in cols:\n",
    "    filtered = mfq_result_df[mfq_result_df['Topic'].str.startswith(col)]\n",
    "    filtered=filtered[['Model','Republicans','Democrats']].groupby('Model').mean().reset_index()\n",
    "    filtered['Topic']=col \n",
    "    Row.append(filtered)\n",
    "mfq_result_df_mean=pd.concat(Row,ignore_index=True)"
   ]
  },
  {
   "cell_type": "code",
   "execution_count": null,
   "metadata": {},
   "outputs": [],
   "source": [
    "cols =['Harm','Fairness','Loyalty','Authority','Purity']\n",
    "Row=[]\n",
    "for col in cols:\n",
    "    filtered = mfq_result_df[mfq_result_df['Topic'].str.startswith(col)]\n",
    "    filtered=filtered[['Model','Republicans','Democrats']].groupby('Model').std().reset_index()\n",
    "    filtered['Topic']=col \n",
    "    Row.append(filtered)\n",
    "mfq_result_df_std=pd.concat(Row,ignore_index=True)"
   ]
  }
 ],
 "metadata": {
  "kernelspec": {
   "display_name": "Python 3",
   "language": "python",
   "name": "python3"
  },
  "language_info": {
   "name": "python",
   "version": "3.9.6 (default, May  7 2023, 23:32:44) \n[Clang 14.0.3 (clang-1403.0.22.14.1)]"
  },
  "orig_nbformat": 4,
  "vscode": {
   "interpreter": {
    "hash": "31f2aee4e71d21fbe5cf8b01ff0e069b9275f58929596ceb00d14d90e3e16cd6"
   }
  }
 },
 "nbformat": 4,
 "nbformat_minor": 2
}
